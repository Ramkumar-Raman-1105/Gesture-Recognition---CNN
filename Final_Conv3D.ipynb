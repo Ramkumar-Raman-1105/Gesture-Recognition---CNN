{
 "cells": [
  {
   "cell_type": "markdown",
   "metadata": {},
   "source": [
    "# Gesture Recognition\n",
    "In this group project, you are going to build a 3D Conv model that will be able to predict the 5 gestures correctly. Please import the following libraries to get started. Once you have completed the code you can download the notebook for making a submission."
   ]
  },
  {
   "cell_type": "code",
   "execution_count": 1,
   "metadata": {},
   "outputs": [],
   "source": [
    "import numpy as np\n",
    "import os\n",
    "from imageio import imread\n",
    "from skimage.transform import resize\n",
    "import datetime\n",
    "import os\n",
    "import warnings\n",
    "warnings.filterwarnings('ignore')\n"
   ]
  },
  {
   "cell_type": "markdown",
   "metadata": {},
   "source": [
    "We set the random seed so that the results don't vary drastically."
   ]
  },
  {
   "cell_type": "code",
   "execution_count": 2,
   "metadata": {},
   "outputs": [],
   "source": [
    "np.random.seed(30)\n",
    "import random as rn\n",
    "rn.seed(30)\n",
    "from tensorflow import keras\n",
    "import tensorflow as tf\n",
    "tf.random.set_seed(30)"
   ]
  },
  {
   "cell_type": "markdown",
   "metadata": {},
   "source": [
    "In this block, you read the folder names for training and validation. You also set the `batch_size` here. Note that you set the batch size in such a way that you are able to use the GPU in full capacity. You keep increasing the batch size until the machine throws an error."
   ]
  },
  {
   "cell_type": "markdown",
   "metadata": {},
   "source": [
    "**data path: /home/datasets/Project_data**"
   ]
  },
  {
   "cell_type": "code",
   "execution_count": 3,
   "metadata": {},
   "outputs": [],
   "source": [
    "train_doc = np.random.permutation(open('/home/datasets/Project_data/train.csv').readlines())\n",
    "val_doc = np.random.permutation(open('/home/datasets/Project_data/val.csv').readlines())\n",
    "batch_size = 32"
   ]
  },
  {
   "cell_type": "code",
   "execution_count": null,
   "metadata": {},
   "outputs": [],
   "source": []
  },
  {
   "cell_type": "markdown",
   "metadata": {},
   "source": [
    "## Generator\n",
    "This is one of the most important part of the code. The overall structure of the generator has been given. In the generator, you are going to preprocess the images as you have images of 2 different dimensions as well as create a batch of video frames. You have to experiment with `img_idx`, `y`,`z` and normalization such that you get high accuracy."
   ]
  },
  {
   "cell_type": "code",
   "execution_count": 4,
   "metadata": {},
   "outputs": [],
   "source": [
    "def generator(source_path, folder_list, batch_size):\n",
    "    print( 'Source path = ', source_path, '; batch size =', batch_size)\n",
    "    img_idx = np.array([1,2,4,6,8,10,12,14,16,18,20,22,24,26,28,29])\n",
    "    while True:\n",
    "        t = np.random.permutation(folder_list)\n",
    "        num_batches = len(t) // batch_size   # calculate the number of batches\n",
    "        for batch in range(num_batches): # we iterate over the number of batches\n",
    "            batch_data = np.zeros((batch_size,len(img_idx),100,100,3)) # x is the number of images you use for each video, (y,z) is the final size of the input images and 3 is the number of channels RGB\n",
    "            batch_labels = np.zeros((batch_size,5)) # batch_labels is the one hot representation of the output\n",
    "            for folder in range(batch_size): # iterate over the batch_size\n",
    "                imgs = os.listdir(source_path+'/'+ t[folder + (batch*batch_size)].split(';')[0]) # read all the images in the folder\n",
    "                for idx,item in enumerate(img_idx): #  Iterate iver the frames/images of a folder to read them in\n",
    "                    image = imread(source_path+'/'+ t[folder + (batch*batch_size)].strip().split(';')[0]+'/'+imgs[item]).astype(np.float32)\n",
    "                    \n",
    "                    #crop the images and resize them. Note that the images are of 2 different shape \n",
    "                    #and the conv3D will throw error if the inputs in a batch have different shapes\n",
    "                    resized_image = resize(image, (100, 100, 3))\n",
    "                    batch_data[folder, idx, :, :, :] = resized_image / 255\n",
    "                    \n",
    "                batch_labels[folder, int(t[folder + (batch*batch_size)].strip().split(';')[2])] = 1\n",
    "            yield batch_data, batch_labels #you yield the batch_data and the batch_labels, remember what does yield do\n",
    "\n",
    "        \n",
    "        # write the code for the remaining data points which are left after full batches\n",
    "            if len(t) % batch_size != 0:\n",
    "                remaining_data = len(t) % batch_size\n",
    "                batch_data = np.zeros((remaining_data, len(img_idx), 100, 100, 3))\n",
    "                batch_labels = np.zeros((remaining_data, 5))\n",
    "            \n",
    "                for folder in range(remaining_data):\n",
    "                    folder_name = t[folder + (num_batches * batch_size)].split(';')[0]\n",
    "                    imgs = os.listdir(os.path.join(source_path, folder_name))\n",
    "                \n",
    "                    for idx, item in enumerate(img_idx):\n",
    "                        image = imread(os.path.join(source_path, folder_name, imgs[item])).astype(np.float32)\n",
    "                        resized_image =  resize(image, (100, 100, 3))\n",
    "                        batch_data[folder, idx, :, :, :] = resized_image / 255\n",
    "\n",
    "                    batch_labels[folder, int(t[folder + (num_batches * batch_size)].strip().split(';')[2])] = 1\n",
    "\n",
    "                yield batch_data, batch_labels  # Yield remaining data and labels"
   ]
  },
  {
   "cell_type": "markdown",
   "metadata": {},
   "source": [
    "Note here that a video is represented above in the generator as (number of images, height, width, number of channels). Take this into consideration while creating the model architecture."
   ]
  },
  {
   "cell_type": "code",
   "execution_count": 5,
   "metadata": {},
   "outputs": [
    {
     "name": "stdout",
     "output_type": "stream",
     "text": [
      "# training sequences = 663\n",
      "# validation sequences = 100\n",
      "# epochs = 50\n"
     ]
    }
   ],
   "source": [
    "curr_dt_time = datetime.datetime.now()\n",
    "train_path = '/home/datasets/Project_data/train'\n",
    "val_path = '/home/datasets/Project_data/val'\n",
    "num_train_sequences = len(train_doc)\n",
    "print('# training sequences =', num_train_sequences)\n",
    "num_val_sequences = len(val_doc)\n",
    "print('# validation sequences =', num_val_sequences)\n",
    "num_epochs = 50 # choose the number of epochs\n",
    "print ('# epochs =', num_epochs)"
   ]
  },
  {
   "cell_type": "markdown",
   "metadata": {},
   "source": [
    "## Model\n",
    "Here you make the model using different functionalities that Keras provides. Remember to use `Conv3D` and `MaxPooling3D` and not `Conv2D` and `Maxpooling2D` for a 3D convolution model. You would want to use `TimeDistributed` while building a Conv2D + RNN model. Also remember that the last layer is the softmax. Design the network in such a way that the model is able to give good accuracy on the least number of parameters so that it can fit in the memory of the webcam."
   ]
  },
  {
   "cell_type": "code",
   "execution_count": 6,
   "metadata": {},
   "outputs": [
    {
     "name": "stderr",
     "output_type": "stream",
     "text": [
      "2024-07-30 18:21:27.081600: I tensorflow/stream_executor/cuda/cuda_gpu_executor.cc:1052] successful NUMA node read from SysFS had negative value (-1), but there must be at least one NUMA node, so returning NUMA node zero\n",
      "2024-07-30 18:21:27.123969: I tensorflow/stream_executor/cuda/cuda_gpu_executor.cc:1052] successful NUMA node read from SysFS had negative value (-1), but there must be at least one NUMA node, so returning NUMA node zero\n",
      "2024-07-30 18:21:27.124322: I tensorflow/stream_executor/cuda/cuda_gpu_executor.cc:1052] successful NUMA node read from SysFS had negative value (-1), but there must be at least one NUMA node, so returning NUMA node zero\n",
      "2024-07-30 18:21:27.128524: I tensorflow/stream_executor/cuda/cuda_gpu_executor.cc:1052] successful NUMA node read from SysFS had negative value (-1), but there must be at least one NUMA node, so returning NUMA node zero\n",
      "2024-07-30 18:21:27.128900: I tensorflow/stream_executor/cuda/cuda_gpu_executor.cc:1052] successful NUMA node read from SysFS had negative value (-1), but there must be at least one NUMA node, so returning NUMA node zero\n",
      "2024-07-30 18:21:27.129250: I tensorflow/stream_executor/cuda/cuda_gpu_executor.cc:1052] successful NUMA node read from SysFS had negative value (-1), but there must be at least one NUMA node, so returning NUMA node zero\n",
      "2024-07-30 18:21:27.602008: I tensorflow/stream_executor/cuda/cuda_gpu_executor.cc:1052] successful NUMA node read from SysFS had negative value (-1), but there must be at least one NUMA node, so returning NUMA node zero\n",
      "2024-07-30 18:21:27.602421: I tensorflow/stream_executor/cuda/cuda_gpu_executor.cc:1052] successful NUMA node read from SysFS had negative value (-1), but there must be at least one NUMA node, so returning NUMA node zero\n",
      "2024-07-30 18:21:27.602784: I tensorflow/stream_executor/cuda/cuda_gpu_executor.cc:1052] successful NUMA node read from SysFS had negative value (-1), but there must be at least one NUMA node, so returning NUMA node zero\n",
      "2024-07-30 18:21:27.603077: W tensorflow/core/common_runtime/gpu/gpu_bfc_allocator.cc:39] Overriding allow_growth setting because the TF_FORCE_GPU_ALLOW_GROWTH environment variable is set. Original config value was 0.\n",
      "2024-07-30 18:21:27.603128: I tensorflow/core/common_runtime/gpu/gpu_device.cc:1525] Created device /job:localhost/replica:0/task:0/device:GPU:0 with 22101 MB memory:  -> device: 0, name: NVIDIA RTX A5000, pci bus id: 0000:81:00.0, compute capability: 8.6\n"
     ]
    }
   ],
   "source": [
    "import tensorflow as tf\n",
    "from tensorflow import keras\n",
    "from tensorflow.keras.models import Sequential\n",
    "from tensorflow.keras.layers import Dense, GRU, Dropout, Flatten, BatchNormalization, Activation, Conv3D, MaxPooling3D, GlobalAveragePooling3D\n",
    "from tensorflow.keras.callbacks import ModelCheckpoint, ReduceLROnPlateau\n",
    "from tensorflow.keras import optimizers\n",
    "\n",
    "\n",
    "#write your model here\n",
    "model_3d = Sequential()\n",
    "\n",
    "# 1st Conv3D layer\n",
    "model_3d.add(Conv3D(filters=16, kernel_size=(3, 3, 3), input_shape=(16, 100, 100, 3), padding='same'))\n",
    "model_3d.add(BatchNormalization())\n",
    "model_3d.add(Activation('relu'))\n",
    "model_3d.add(MaxPooling3D(pool_size=(2, 2, 2), padding='same'))\n",
    "\n",
    "# 2nd Conv3D layer\n",
    "model_3d.add(Conv3D(filters=32, kernel_size=(3, 3, 3), padding='same'))\n",
    "model_3d.add(BatchNormalization())\n",
    "model_3d.add(Activation('relu'))\n",
    "model_3d.add(MaxPooling3D(pool_size=(2, 2, 2), padding='same'))\n",
    "\n",
    "# 3rd Conv3D layer\n",
    "model_3d.add(Conv3D(filters=64, kernel_size=(3, 3, 3), padding='same'))\n",
    "model_3d.add(BatchNormalization())\n",
    "model_3d.add(Activation('relu'))\n",
    "model_3d.add(MaxPooling3D(pool_size=(2, 2, 2), padding='same'))\n",
    "\n",
    "\n",
    "# Flatten and Dense layers\n",
    "model_3d.add(Flatten())\n",
    "model_3d.add(Dense(128))\n",
    "model_3d.add(BatchNormalization())\n",
    "model_3d.add(Activation('relu'))\n",
    "model_3d.add(Dropout(0.5))\n",
    "\n",
    "# Output layer\n",
    "model_3d.add(Dense(5, activation='softmax'))"
   ]
  },
  {
   "cell_type": "markdown",
   "metadata": {},
   "source": [
    "Now that you have written the model, the next step is to `compile` the model. When you print the `summary` of the model, you'll see the total number of parameters you have to train."
   ]
  },
  {
   "cell_type": "code",
   "execution_count": 7,
   "metadata": {
    "scrolled": true
   },
   "outputs": [
    {
     "name": "stdout",
     "output_type": "stream",
     "text": [
      "Model: \"sequential\"\n",
      "_________________________________________________________________\n",
      " Layer (type)                Output Shape              Param #   \n",
      "=================================================================\n",
      " conv3d (Conv3D)             (None, 16, 100, 100, 16)  1312      \n",
      "                                                                 \n",
      " batch_normalization (BatchN  (None, 16, 100, 100, 16)  64       \n",
      " ormalization)                                                   \n",
      "                                                                 \n",
      " activation (Activation)     (None, 16, 100, 100, 16)  0         \n",
      "                                                                 \n",
      " max_pooling3d (MaxPooling3D  (None, 8, 50, 50, 16)    0         \n",
      " )                                                               \n",
      "                                                                 \n",
      " conv3d_1 (Conv3D)           (None, 8, 50, 50, 32)     13856     \n",
      "                                                                 \n",
      " batch_normalization_1 (Batc  (None, 8, 50, 50, 32)    128       \n",
      " hNormalization)                                                 \n",
      "                                                                 \n",
      " activation_1 (Activation)   (None, 8, 50, 50, 32)     0         \n",
      "                                                                 \n",
      " max_pooling3d_1 (MaxPooling  (None, 4, 25, 25, 32)    0         \n",
      " 3D)                                                             \n",
      "                                                                 \n",
      " conv3d_2 (Conv3D)           (None, 4, 25, 25, 64)     55360     \n",
      "                                                                 \n",
      " batch_normalization_2 (Batc  (None, 4, 25, 25, 64)    256       \n",
      " hNormalization)                                                 \n",
      "                                                                 \n",
      " activation_2 (Activation)   (None, 4, 25, 25, 64)     0         \n",
      "                                                                 \n",
      " max_pooling3d_2 (MaxPooling  (None, 2, 13, 13, 64)    0         \n",
      " 3D)                                                             \n",
      "                                                                 \n",
      " flatten (Flatten)           (None, 21632)             0         \n",
      "                                                                 \n",
      " dense (Dense)               (None, 128)               2769024   \n",
      "                                                                 \n",
      " batch_normalization_3 (Batc  (None, 128)              512       \n",
      " hNormalization)                                                 \n",
      "                                                                 \n",
      " activation_3 (Activation)   (None, 128)               0         \n",
      "                                                                 \n",
      " dropout (Dropout)           (None, 128)               0         \n",
      "                                                                 \n",
      " dense_1 (Dense)             (None, 5)                 645       \n",
      "                                                                 \n",
      "=================================================================\n",
      "Total params: 2,841,157\n",
      "Trainable params: 2,840,677\n",
      "Non-trainable params: 480\n",
      "_________________________________________________________________\n",
      "None\n"
     ]
    }
   ],
   "source": [
    "optimiser = \"adam\"\n",
    "model_3d.compile(optimizer=optimiser, loss='categorical_crossentropy', metrics=['categorical_accuracy','accuracy'])\n",
    "print (model_3d.summary())"
   ]
  },
  {
   "cell_type": "markdown",
   "metadata": {},
   "source": [
    "Let us create the `train_generator` and the `val_generator` which will be used in `.fit_generator`."
   ]
  },
  {
   "cell_type": "code",
   "execution_count": 8,
   "metadata": {},
   "outputs": [],
   "source": [
    "train_generator = generator(train_path, train_doc, batch_size)\n",
    "val_generator = generator(val_path, val_doc, batch_size)"
   ]
  },
  {
   "cell_type": "code",
   "execution_count": 9,
   "metadata": {},
   "outputs": [],
   "source": [
    "model_name = 'model_init_Conv_3D' + '_' + str(curr_dt_time).replace(' ','').replace(':','_') + '/'\n",
    "    \n",
    "if not os.path.exists(model_name):\n",
    "    os.mkdir(model_name)\n",
    "        \n",
    "filepath = model_name + 'model_epoch-{epoch:05d}.h5'\n",
    "\n",
    "checkpoint = ModelCheckpoint(filepath, monitor='val_loss', verbose=1, save_best_only=False, save_weights_only=False, mode='auto',save_freq = num_epochs)\n",
    "\n",
    "LR = ReduceLROnPlateau(monitor='val_loss', factor=0.1, patience=3, verbose=1, mode='auto', min_lr=0.00001)\n",
    "callbacks_list = [checkpoint, LR]"
   ]
  },
  {
   "cell_type": "markdown",
   "metadata": {},
   "source": [
    "The `steps_per_epoch` and `validation_steps` are used by `fit` method to decide the number of next() calls it need to make."
   ]
  },
  {
   "cell_type": "code",
   "execution_count": 10,
   "metadata": {},
   "outputs": [],
   "source": [
    "if (num_train_sequences%batch_size) == 0:\n",
    "    steps_per_epoch = int(num_train_sequences/batch_size)\n",
    "else:\n",
    "    steps_per_epoch = (num_train_sequences//batch_size) + 1\n",
    "\n",
    "if (num_val_sequences%batch_size) == 0:\n",
    "    validation_steps = int(num_val_sequences/batch_size)\n",
    "else:\n",
    "    validation_steps = (num_val_sequences//batch_size) + 1"
   ]
  },
  {
   "cell_type": "markdown",
   "metadata": {},
   "source": [
    "Let us now fit the model. This will start training the model and with the help of the checkpoints, you'll be able to save the model at the end of each epoch."
   ]
  },
  {
   "cell_type": "code",
   "execution_count": 11,
   "metadata": {},
   "outputs": [
    {
     "name": "stdout",
     "output_type": "stream",
     "text": [
      "Source path =  /home/datasets/Project_data/train ; batch size = 32\n",
      "Epoch 1/50\n"
     ]
    },
    {
     "name": "stderr",
     "output_type": "stream",
     "text": [
      "2024-07-30 18:21:31.695403: I tensorflow/stream_executor/cuda/cuda_dnn.cc:377] Loaded cuDNN version 8302\n",
      "2024-07-30 18:21:33.350415: I tensorflow/stream_executor/cuda/cuda_blas.cc:1792] TensorFloat-32 will be used for the matrix multiplication. This will only be logged once.\n"
     ]
    },
    {
     "name": "stdout",
     "output_type": "stream",
     "text": [
      "21/21 [==============================] - ETA: 0s - loss: 1.0653 - categorical_accuracy: 0.6151 - accuracy: 0.6151Source path =  /home/datasets/Project_data/val ; batch size = 32\n",
      "21/21 [==============================] - 46s 2s/step - loss: 1.0653 - categorical_accuracy: 0.6151 - accuracy: 0.6151 - val_loss: 1.7183 - val_categorical_accuracy: 0.4028 - val_accuracy: 0.4028 - lr: 0.0010\n",
      "Epoch 2/50\n",
      "21/21 [==============================] - 43s 2s/step - loss: 0.5966 - categorical_accuracy: 0.7801 - accuracy: 0.7801 - val_loss: 2.8507 - val_categorical_accuracy: 0.2361 - val_accuracy: 0.2361 - lr: 0.0010\n",
      "Epoch 3/50\n",
      " 7/21 [=========>....................] - ETA: 26s - loss: 0.5463 - categorical_accuracy: 0.8071 - accuracy: 0.8071\n",
      "Epoch 00003: saving model to model_init_Conv_3D_2024-07-3018_21_26.958734/model_epoch-00003.h5\n",
      "21/21 [==============================] - 45s 2s/step - loss: 0.4505 - categorical_accuracy: 0.8419 - accuracy: 0.8419 - val_loss: 3.2916 - val_categorical_accuracy: 0.3194 - val_accuracy: 0.3194 - lr: 0.0010\n",
      "Epoch 4/50\n",
      "21/21 [==============================] - ETA: 0s - loss: 0.3617 - categorical_accuracy: 0.8604 - accuracy: 0.8604\n",
      "Epoch 00004: ReduceLROnPlateau reducing learning rate to 0.00010000000474974513.\n",
      "21/21 [==============================] - 42s 2s/step - loss: 0.3617 - categorical_accuracy: 0.8604 - accuracy: 0.8604 - val_loss: 4.9157 - val_categorical_accuracy: 0.1944 - val_accuracy: 0.1944 - lr: 0.0010\n",
      "Epoch 5/50\n",
      "15/21 [====================>.........] - ETA: 10s - loss: 0.3078 - categorical_accuracy: 0.8969 - accuracy: 0.8969\n",
      "Epoch 00005: saving model to model_init_Conv_3D_2024-07-3018_21_26.958734/model_epoch-00005.h5\n",
      "21/21 [==============================] - 43s 2s/step - loss: 0.2849 - categorical_accuracy: 0.9021 - accuracy: 0.9021 - val_loss: 4.9373 - val_categorical_accuracy: 0.2222 - val_accuracy: 0.2222 - lr: 1.0000e-04\n",
      "Epoch 6/50\n",
      "21/21 [==============================] - 45s 2s/step - loss: 0.2195 - categorical_accuracy: 0.9337 - accuracy: 0.9337 - val_loss: 5.2214 - val_categorical_accuracy: 0.2361 - val_accuracy: 0.2361 - lr: 1.0000e-04\n",
      "Epoch 7/50\n",
      "21/21 [==============================] - ETA: 0s - loss: 0.2055 - categorical_accuracy: 0.9381 - accuracy: 0.9381\n",
      "Epoch 00007: ReduceLROnPlateau reducing learning rate to 1.0000000474974514e-05.\n",
      "21/21 [==============================] - 47s 2s/step - loss: 0.2055 - categorical_accuracy: 0.9381 - accuracy: 0.9381 - val_loss: 5.9937 - val_categorical_accuracy: 0.1944 - val_accuracy: 0.1944 - lr: 1.0000e-04\n",
      "Epoch 8/50\n",
      " 2/21 [=>............................] - ETA: 43s - loss: 0.1705 - categorical_accuracy: 0.9273 - accuracy: 0.9273\n",
      "Epoch 00008: saving model to model_init_Conv_3D_2024-07-3018_21_26.958734/model_epoch-00008.h5\n",
      "21/21 [==============================] - 46s 2s/step - loss: 0.2106 - categorical_accuracy: 0.9284 - accuracy: 0.9284 - val_loss: 5.5835 - val_categorical_accuracy: 0.2361 - val_accuracy: 0.2361 - lr: 1.0000e-05\n",
      "Epoch 9/50\n",
      "21/21 [==============================] - 49s 2s/step - loss: 0.2053 - categorical_accuracy: 0.9399 - accuracy: 0.9399 - val_loss: 5.7141 - val_categorical_accuracy: 0.1944 - val_accuracy: 0.1944 - lr: 1.0000e-05\n",
      "Epoch 10/50\n",
      "10/21 [=============>................] - ETA: 22s - loss: 0.2220 - categorical_accuracy: 0.9382 - accuracy: 0.9382\n",
      "Epoch 00010: saving model to model_init_Conv_3D_2024-07-3018_21_26.958734/model_epoch-00010.h5\n",
      "21/21 [==============================] - ETA: 0s - loss: 0.2405 - categorical_accuracy: 0.9250 - accuracy: 0.9250\n",
      "Epoch 00010: ReduceLROnPlateau reducing learning rate to 1e-05.\n",
      "21/21 [==============================] - 45s 2s/step - loss: 0.2405 - categorical_accuracy: 0.9250 - accuracy: 0.9250 - val_loss: 5.2940 - val_categorical_accuracy: 0.2222 - val_accuracy: 0.2222 - lr: 1.0000e-05\n",
      "Epoch 11/50\n",
      "21/21 [==============================] - 45s 2s/step - loss: 0.2227 - categorical_accuracy: 0.9416 - accuracy: 0.9416 - val_loss: 5.8629 - val_categorical_accuracy: 0.1667 - val_accuracy: 0.1667 - lr: 1.0000e-05\n",
      "Epoch 12/50\n",
      "18/21 [========================>.....] - ETA: 6s - loss: 0.2203 - categorical_accuracy: 0.9273 - accuracy: 0.9273\n",
      "Epoch 00012: saving model to model_init_Conv_3D_2024-07-3018_21_26.958734/model_epoch-00012.h5\n",
      "21/21 [==============================] - 47s 2s/step - loss: 0.2164 - categorical_accuracy: 0.9319 - accuracy: 0.9319 - val_loss: 4.6683 - val_categorical_accuracy: 0.2917 - val_accuracy: 0.2917 - lr: 1.0000e-05\n",
      "Epoch 13/50\n",
      "21/21 [==============================] - 50s 3s/step - loss: 0.2052 - categorical_accuracy: 0.9450 - accuracy: 0.9450 - val_loss: 4.9982 - val_categorical_accuracy: 0.2222 - val_accuracy: 0.2222 - lr: 1.0000e-05\n",
      "Epoch 14/50\n",
      "21/21 [==============================] - 45s 2s/step - loss: 0.2107 - categorical_accuracy: 0.9354 - accuracy: 0.9354 - val_loss: 4.5866 - val_categorical_accuracy: 0.2083 - val_accuracy: 0.2083 - lr: 1.0000e-05\n",
      "Epoch 15/50\n",
      " 5/21 [======>.......................] - ETA: 30s - loss: 0.2302 - categorical_accuracy: 0.9225 - accuracy: 0.9225\n",
      "Epoch 00015: saving model to model_init_Conv_3D_2024-07-3018_21_26.958734/model_epoch-00015.h5\n",
      "21/21 [==============================] - 46s 2s/step - loss: 0.1841 - categorical_accuracy: 0.9605 - accuracy: 0.9605 - val_loss: 4.2658 - val_categorical_accuracy: 0.2500 - val_accuracy: 0.2500 - lr: 1.0000e-05\n",
      "Epoch 16/50\n",
      "21/21 [==============================] - 43s 2s/step - loss: 0.1733 - categorical_accuracy: 0.9634 - accuracy: 0.9634 - val_loss: 3.8127 - val_categorical_accuracy: 0.2917 - val_accuracy: 0.2917 - lr: 1.0000e-05\n",
      "Epoch 17/50\n",
      "13/21 [=================>............] - ETA: 13s - loss: 0.1990 - categorical_accuracy: 0.9669 - accuracy: 0.9669\n",
      "Epoch 00017: saving model to model_init_Conv_3D_2024-07-3018_21_26.958734/model_epoch-00017.h5\n",
      "21/21 [==============================] - 44s 2s/step - loss: 0.1871 - categorical_accuracy: 0.9691 - accuracy: 0.9691 - val_loss: 3.5141 - val_categorical_accuracy: 0.2917 - val_accuracy: 0.2917 - lr: 1.0000e-05\n",
      "Epoch 18/50\n",
      "21/21 [==============================] - 43s 2s/step - loss: 0.1921 - categorical_accuracy: 0.9424 - accuracy: 0.9424 - val_loss: 3.4298 - val_categorical_accuracy: 0.3472 - val_accuracy: 0.3472 - lr: 1.0000e-05\n",
      "Epoch 19/50\n",
      "21/21 [==============================] - 47s 2s/step - loss: 0.1569 - categorical_accuracy: 0.9622 - accuracy: 0.9622 - val_loss: 3.2114 - val_categorical_accuracy: 0.3056 - val_accuracy: 0.3056 - lr: 1.0000e-05\n",
      "Epoch 20/50\n",
      "\n",
      "Epoch 00020: saving model to model_init_Conv_3D_2024-07-3018_21_26.958734/model_epoch-00020.h5\n",
      "21/21 [==============================] - 43s 2s/step - loss: 0.1962 - categorical_accuracy: 0.9476 - accuracy: 0.9476 - val_loss: 2.6376 - val_categorical_accuracy: 0.3750 - val_accuracy: 0.3750 - lr: 1.0000e-05\n",
      "Epoch 21/50\n",
      "21/21 [==============================] - 45s 2s/step - loss: 0.1722 - categorical_accuracy: 0.9656 - accuracy: 0.9656 - val_loss: 2.1554 - val_categorical_accuracy: 0.4028 - val_accuracy: 0.4028 - lr: 1.0000e-05\n",
      "Epoch 22/50\n",
      " 8/21 [==========>...................] - ETA: 23s - loss: 0.1935 - categorical_accuracy: 0.9545 - accuracy: 0.9545\n",
      "Epoch 00022: saving model to model_init_Conv_3D_2024-07-3018_21_26.958734/model_epoch-00022.h5\n",
      "21/21 [==============================] - 49s 2s/step - loss: 0.1942 - categorical_accuracy: 0.9529 - accuracy: 0.9529 - val_loss: 1.7392 - val_categorical_accuracy: 0.4722 - val_accuracy: 0.4722 - lr: 1.0000e-05\n",
      "Epoch 23/50\n",
      "21/21 [==============================] - 47s 2s/step - loss: 0.1684 - categorical_accuracy: 0.9605 - accuracy: 0.9605 - val_loss: 1.7925 - val_categorical_accuracy: 0.4444 - val_accuracy: 0.4444 - lr: 1.0000e-05\n",
      "Epoch 24/50\n",
      "16/21 [=====================>........] - ETA: 9s - loss: 0.1993 - categorical_accuracy: 0.9409 - accuracy: 0.9409 \n",
      "Epoch 00024: saving model to model_init_Conv_3D_2024-07-3018_21_26.958734/model_epoch-00024.h5\n",
      "21/21 [==============================] - 45s 2s/step - loss: 0.2019 - categorical_accuracy: 0.9389 - accuracy: 0.9389 - val_loss: 1.3294 - val_categorical_accuracy: 0.5417 - val_accuracy: 0.5417 - lr: 1.0000e-05\n",
      "Epoch 25/50\n",
      "21/21 [==============================] - 47s 2s/step - loss: 0.1919 - categorical_accuracy: 0.9467 - accuracy: 0.9467 - val_loss: 0.9490 - val_categorical_accuracy: 0.7361 - val_accuracy: 0.7361 - lr: 1.0000e-05\n",
      "Epoch 26/50\n",
      "21/21 [==============================] - 46s 2s/step - loss: 0.1933 - categorical_accuracy: 0.9564 - accuracy: 0.9564 - val_loss: 0.9183 - val_categorical_accuracy: 0.7222 - val_accuracy: 0.7222 - lr: 1.0000e-05\n",
      "Epoch 27/50\n",
      " 3/21 [===>..........................] - ETA: 32s - loss: 0.1473 - categorical_accuracy: 0.9655 - accuracy: 0.9655\n",
      "Epoch 00027: saving model to model_init_Conv_3D_2024-07-3018_21_26.958734/model_epoch-00027.h5\n",
      "21/21 [==============================] - 47s 2s/step - loss: 0.1756 - categorical_accuracy: 0.9605 - accuracy: 0.9605 - val_loss: 0.7960 - val_categorical_accuracy: 0.7361 - val_accuracy: 0.7361 - lr: 1.0000e-05\n",
      "Epoch 28/50\n",
      "21/21 [==============================] - 44s 2s/step - loss: 0.1848 - categorical_accuracy: 0.9476 - accuracy: 0.9476 - val_loss: 0.7646 - val_categorical_accuracy: 0.7222 - val_accuracy: 0.7222 - lr: 1.0000e-05\n",
      "Epoch 29/50\n",
      "11/21 [==============>...............] - ETA: 19s - loss: 0.1483 - categorical_accuracy: 0.9707 - accuracy: 0.9707\n",
      "Epoch 00029: saving model to model_init_Conv_3D_2024-07-3018_21_26.958734/model_epoch-00029.h5\n",
      "21/21 [==============================] - 46s 2s/step - loss: 0.1610 - categorical_accuracy: 0.9742 - accuracy: 0.9742 - val_loss: 0.6758 - val_categorical_accuracy: 0.7917 - val_accuracy: 0.7917 - lr: 1.0000e-05\n",
      "Epoch 30/50\n",
      "21/21 [==============================] - 43s 2s/step - loss: 0.1496 - categorical_accuracy: 0.9738 - accuracy: 0.9738 - val_loss: 0.7358 - val_categorical_accuracy: 0.7500 - val_accuracy: 0.7500 - lr: 1.0000e-05\n",
      "Epoch 31/50\n",
      "19/21 [==========================>...] - ETA: 3s - loss: 0.1584 - categorical_accuracy: 0.9696 - accuracy: 0.9696\n",
      "Epoch 00031: saving model to model_init_Conv_3D_2024-07-3018_21_26.958734/model_epoch-00031.h5\n",
      "21/21 [==============================] - 46s 2s/step - loss: 0.1592 - categorical_accuracy: 0.9691 - accuracy: 0.9691 - val_loss: 0.6442 - val_categorical_accuracy: 0.7917 - val_accuracy: 0.7917 - lr: 1.0000e-05\n",
      "Epoch 32/50\n",
      "21/21 [==============================] - 44s 2s/step - loss: 0.1582 - categorical_accuracy: 0.9634 - accuracy: 0.9634 - val_loss: 0.5452 - val_categorical_accuracy: 0.8194 - val_accuracy: 0.8194 - lr: 1.0000e-05\n",
      "Epoch 33/50\n",
      "21/21 [==============================] - 45s 2s/step - loss: 0.1256 - categorical_accuracy: 0.9759 - accuracy: 0.9759 - val_loss: 0.6148 - val_categorical_accuracy: 0.8056 - val_accuracy: 0.8056 - lr: 1.0000e-05\n",
      "Epoch 34/50\n",
      " 6/21 [=======>......................] - ETA: 28s - loss: 0.1023 - categorical_accuracy: 0.9879 - accuracy: 0.9879\n",
      "Epoch 00034: saving model to model_init_Conv_3D_2024-07-3018_21_26.958734/model_epoch-00034.h5\n",
      "21/21 [==============================] - 43s 2s/step - loss: 0.1308 - categorical_accuracy: 0.9808 - accuracy: 0.9808 - val_loss: 0.6093 - val_categorical_accuracy: 0.7917 - val_accuracy: 0.7917 - lr: 1.0000e-05\n",
      "Epoch 35/50\n",
      "21/21 [==============================] - 46s 2s/step - loss: 0.1244 - categorical_accuracy: 0.9777 - accuracy: 0.9777 - val_loss: 0.5919 - val_categorical_accuracy: 0.8056 - val_accuracy: 0.8056 - lr: 1.0000e-05\n",
      "Epoch 36/50\n",
      "14/21 [===================>..........] - ETA: 13s - loss: 0.1497 - categorical_accuracy: 0.9584 - accuracy: 0.9584\n",
      "Epoch 00036: saving model to model_init_Conv_3D_2024-07-3018_21_26.958734/model_epoch-00036.h5\n",
      "21/21 [==============================] - 45s 2s/step - loss: 0.1323 - categorical_accuracy: 0.9703 - accuracy: 0.9703 - val_loss: 0.5071 - val_categorical_accuracy: 0.8333 - val_accuracy: 0.8333 - lr: 1.0000e-05\n",
      "Epoch 37/50\n",
      "21/21 [==============================] - 46s 2s/step - loss: 0.1530 - categorical_accuracy: 0.9691 - accuracy: 0.9691 - val_loss: 0.5683 - val_categorical_accuracy: 0.8194 - val_accuracy: 0.8194 - lr: 1.0000e-05\n",
      "Epoch 38/50\n",
      "21/21 [==============================] - 41s 2s/step - loss: 0.1367 - categorical_accuracy: 0.9721 - accuracy: 0.9721 - val_loss: 0.3684 - val_categorical_accuracy: 0.8472 - val_accuracy: 0.8472 - lr: 1.0000e-05\n",
      "Epoch 39/50\n",
      " 1/21 [>.............................] - ETA: 1s - loss: 0.1131 - categorical_accuracy: 0.9375 - accuracy: 0.9375\n",
      "Epoch 00039: saving model to model_init_Conv_3D_2024-07-3018_21_26.958734/model_epoch-00039.h5\n",
      "21/21 [==============================] - 46s 2s/step - loss: 0.1645 - categorical_accuracy: 0.9553 - accuracy: 0.9553 - val_loss: 0.5349 - val_categorical_accuracy: 0.8333 - val_accuracy: 0.8333 - lr: 1.0000e-05\n",
      "Epoch 40/50\n",
      "21/21 [==============================] - 44s 2s/step - loss: 0.1080 - categorical_accuracy: 0.9860 - accuracy: 0.9860 - val_loss: 0.5335 - val_categorical_accuracy: 0.8333 - val_accuracy: 0.8333 - lr: 1.0000e-05\n",
      "Epoch 41/50\n",
      " 9/21 [===========>..................] - ETA: 21s - loss: 0.1442 - categorical_accuracy: 0.9643 - accuracy: 0.9643\n",
      "Epoch 00041: saving model to model_init_Conv_3D_2024-07-3018_21_26.958734/model_epoch-00041.h5\n",
      "21/21 [==============================] - 45s 2s/step - loss: 0.1530 - categorical_accuracy: 0.9656 - accuracy: 0.9656 - val_loss: 0.4059 - val_categorical_accuracy: 0.8472 - val_accuracy: 0.8472 - lr: 1.0000e-05\n",
      "Epoch 42/50\n",
      "21/21 [==============================] - 40s 2s/step - loss: 0.1117 - categorical_accuracy: 0.9756 - accuracy: 0.9756 - val_loss: 0.4418 - val_categorical_accuracy: 0.8611 - val_accuracy: 0.8611 - lr: 1.0000e-05\n",
      "Epoch 43/50\n",
      "17/21 [=======================>......] - ETA: 7s - loss: 0.1415 - categorical_accuracy: 0.9597 - accuracy: 0.9597\n",
      "Epoch 00043: saving model to model_init_Conv_3D_2024-07-3018_21_26.958734/model_epoch-00043.h5\n",
      "21/21 [==============================] - 47s 2s/step - loss: 0.1478 - categorical_accuracy: 0.9588 - accuracy: 0.9588 - val_loss: 0.4626 - val_categorical_accuracy: 0.8889 - val_accuracy: 0.8889 - lr: 1.0000e-05\n",
      "Epoch 44/50\n",
      "21/21 [==============================] - 44s 2s/step - loss: 0.1228 - categorical_accuracy: 0.9756 - accuracy: 0.9756 - val_loss: 0.4170 - val_categorical_accuracy: 0.8889 - val_accuracy: 0.8889 - lr: 1.0000e-05\n",
      "Epoch 45/50\n",
      "21/21 [==============================] - 43s 2s/step - loss: 0.1417 - categorical_accuracy: 0.9674 - accuracy: 0.9674 - val_loss: 0.5136 - val_categorical_accuracy: 0.8194 - val_accuracy: 0.8194 - lr: 1.0000e-05\n",
      "Epoch 46/50\n",
      " 4/21 [====>.........................] - ETA: 28s - loss: 0.1210 - categorical_accuracy: 0.9909 - accuracy: 0.9909\n",
      "Epoch 00046: saving model to model_init_Conv_3D_2024-07-3018_21_26.958734/model_epoch-00046.h5\n",
      "21/21 [==============================] - 42s 2s/step - loss: 0.1196 - categorical_accuracy: 0.9791 - accuracy: 0.9791 - val_loss: 0.5695 - val_categorical_accuracy: 0.8194 - val_accuracy: 0.8194 - lr: 1.0000e-05\n",
      "Epoch 47/50\n",
      "21/21 [==============================] - 45s 2s/step - loss: 0.1338 - categorical_accuracy: 0.9811 - accuracy: 0.9811 - val_loss: 0.6099 - val_categorical_accuracy: 0.8056 - val_accuracy: 0.8056 - lr: 1.0000e-05\n",
      "Epoch 48/50\n",
      "12/21 [================>.............] - ETA: 16s - loss: 0.1190 - categorical_accuracy: 0.9788 - accuracy: 0.9788\n",
      "Epoch 00048: saving model to model_init_Conv_3D_2024-07-3018_21_26.958734/model_epoch-00048.h5\n",
      "21/21 [==============================] - 42s 2s/step - loss: 0.1216 - categorical_accuracy: 0.9773 - accuracy: 0.9773 - val_loss: 0.5184 - val_categorical_accuracy: 0.8333 - val_accuracy: 0.8333 - lr: 1.0000e-05\n",
      "Epoch 49/50\n",
      "21/21 [==============================] - 44s 2s/step - loss: 0.1155 - categorical_accuracy: 0.9759 - accuracy: 0.9759 - val_loss: 0.3413 - val_categorical_accuracy: 0.8472 - val_accuracy: 0.8472 - lr: 1.0000e-05\n",
      "Epoch 50/50\n",
      "20/21 [===========================>..] - ETA: 1s - loss: 0.1164 - categorical_accuracy: 0.9818 - accuracy: 0.9818\n",
      "Epoch 00050: saving model to model_init_Conv_3D_2024-07-3018_21_26.958734/model_epoch-00050.h5\n",
      "21/21 [==============================] - 42s 2s/step - loss: 0.1183 - categorical_accuracy: 0.9808 - accuracy: 0.9808 - val_loss: 0.4635 - val_categorical_accuracy: 0.8472 - val_accuracy: 0.8472 - lr: 1.0000e-05\n"
     ]
    },
    {
     "data": {
      "text/plain": [
       "<keras.callbacks.History at 0x70b2a84240d0>"
      ]
     },
     "execution_count": 11,
     "metadata": {},
     "output_type": "execute_result"
    }
   ],
   "source": [
    "model_3d.fit(train_generator, steps_per_epoch=steps_per_epoch, epochs=num_epochs, verbose=1, \n",
    "                    callbacks=callbacks_list, validation_data=val_generator, \n",
    "                    validation_steps=validation_steps, class_weight=None, workers=1, initial_epoch=0)"
   ]
  },
  {
   "cell_type": "code",
   "execution_count": null,
   "metadata": {},
   "outputs": [],
   "source": []
  }
 ],
 "metadata": {
  "kernelspec": {
   "display_name": "Python 3 (ipykernel)",
   "language": "python",
   "name": "python3"
  },
  "language_info": {
   "codemirror_mode": {
    "name": "ipython",
    "version": 3
   },
   "file_extension": ".py",
   "mimetype": "text/x-python",
   "name": "python",
   "nbconvert_exporter": "python",
   "pygments_lexer": "ipython3",
   "version": "3.8.10"
  }
 },
 "nbformat": 4,
 "nbformat_minor": 4
}
